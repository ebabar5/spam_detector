{
 "cells": [
  {
   "cell_type": "code",
   "execution_count": null,
   "id": "fd095872",
   "metadata": {},
   "outputs": [],
   "source": []
  },
  {
   "cell_type": "code",
   "execution_count": null,
   "id": "f5c5e9cc",
   "metadata": {},
   "outputs": [
    {
     "name": "stdout",
     "output_type": "stream",
     "text": [
      "0.9844827586206897\n"
     ]
    }
   ],
   "source": [
    "import numpy as np\n",
    "import pandas as pd\n",
    "from sklearn.naive_bayes import MultinomialNB   \n",
    "from sklearn.model_selection import train_test_split\n",
    "from sklearn.feature_extraction.text import TfidfVectorizer\n",
    "from sklearn.metrics import accuracy_score\n",
    "\n",
    "\n",
    "\n",
    "\n",
    "df =pd.read_csv(\"spam_assassin.csv\")\n",
    "\n",
    "x=df['text']\n",
    "y=df['target']\n",
    "x_train, x_test, y_train, y_test = train_test_split(x, y, test_size=0.2, random_state=42)\n",
    "vec=TfidfVectorizer(max_features=10000,stop_words='english')\n",
    "X_train_vec=vec.fit_transform(x_train)\n",
    "X_test_vec=vec.transform(x_test)\n",
    "model=MultinomialNB()\n",
    "model.fit(X_train_vec,y_train)\n",
    "y_pred=model.predict(X_test_vec)\n",
    "accuracy=accuracy_score(y_test,y_pred)\n",
    "print(accuracy)\n",
    "\n",
    "\n"
   ]
  },
  {
   "cell_type": "code",
   "execution_count": null,
   "id": "c366a525",
   "metadata": {},
   "outputs": [
    {
     "name": "stdout",
     "output_type": "stream",
     "text": [
      "0.9844827586206897\n"
     ]
    }
   ],
   "source": [
    "import numpy as np\n",
    "import pandas as pd\n",
    "from sklearn.naive_bayes import MultinomialNB   \n",
    "from sklearn.model_selection import train_test_split\n",
    "from sklearn.feature_extraction.text import TfidfVectorizer\n",
    "from sklearn.metrics import accuracy_score\n",
    "\n",
    "\n",
    "\n",
    "\n",
    "df =pd.read_csv(\"spam_assassin.csv\")\n",
    "\n",
    "x=df['text']\n",
    "y=df['target']\n",
    "x_train, x_test, y_train, y_test = train_test_split(x, y, test_size=0.2, random_state=42)\n",
    "vec=TfidfVectorizer(max_features=10000,stop_words='english')\n",
    "X_train_vec=vec.fit_transform(x_train)\n",
    "X_test_vec=vec.transform(x_test)\n",
    "model=MultinomialNB()\n",
    "model.fit(X_train_vec,y_train)\n",
    "y_pred=model.predict(X_test_vec)\n",
    "accuracy=accuracy_score(y_test,y_pred)\n",
    "print(accuracy)\n",
    "\n",
    "\n"
   ]
  },
  {
   "cell_type": "code",
   "execution_count": null,
   "id": "86bb9b23",
   "metadata": {},
   "outputs": [
    {
     "name": "stdout",
     "output_type": "stream",
     "text": [
      "0.9844827586206897\n"
     ]
    }
   ],
   "source": [
    "import numpy as np\n",
    "import pandas as pd\n",
    "from sklearn.naive_bayes import MultinomialNB   \n",
    "from sklearn.model_selection import train_test_split\n",
    "from sklearn.feature_extraction.text import TfidfVectorizer\n",
    "from sklearn.metrics import accuracy_score\n",
    "\n",
    "\n",
    "\n",
    "\n",
    "df =pd.read_csv(\"spam_assassin.csv\")\n",
    "\n",
    "x=df['text']\n",
    "y=df['target']\n",
    "x_train, x_test, y_train, y_test = train_test_split(x, y, test_size=0.2, random_state=42)\n",
    "vec=TfidfVectorizer(max_features=10000,stop_words='english')\n",
    "X_train_vec=vec.fit_transform(x_train)\n",
    "X_test_vec=vec.transform(x_test)\n",
    "model=MultinomialNB()\n",
    "model.fit(X_train_vec,y_train)\n",
    "y_pred=model.predict(X_test_vec)\n",
    "accuracy=accuracy_score(y_test,y_pred)\n",
    "print(accuracy)\n",
    "\n",
    "\n"
   ]
  },
  {
   "cell_type": "code",
   "execution_count": null,
   "id": "a28ea1b9",
   "metadata": {},
   "outputs": [
    {
     "name": "stdout",
     "output_type": "stream",
     "text": [
      "0.9844827586206897\n"
     ]
    }
   ],
   "source": [
    "import numpy as np\n",
    "import pandas as pd\n",
    "from sklearn.naive_bayes import MultinomialNB   \n",
    "from sklearn.model_selection import train_test_split\n",
    "from sklearn.feature_extraction.text import TfidfVectorizer\n",
    "from sklearn.metrics import accuracy_score\n",
    "from email import message_from_string\n",
    "\n",
    "\n",
    "\n",
    "df =pd.read_csv(\"spam_assassin.csv\")\n",
    "\n",
    "x=df['text']\n",
    "y=df['target']\n",
    "x_train, x_test, y_train, y_test = train_test_split(x, y, test_size=0.2, random_state=42)\n",
    "vec=TfidfVectorizer(max_features=10000,stop_words='english')\n",
    "X_train_vec=vec.fit_transform(x_train)\n",
    "X_test_vec=vec.transform(x_test)\n",
    "model=MultinomialNB()\n",
    "model.fit(X_train_vec,y_train)\n",
    "y_pred=model.predict(X_test_vec)\n",
    "accuracy=accuracy_score(y_test,y_pred)\n",
    "print(accuracy)\n",
    "\n",
    "\n"
   ]
  },
  {
   "cell_type": "code",
   "execution_count": null,
   "id": "95d615df",
   "metadata": {},
   "outputs": [
    {
     "name": "stdout",
     "output_type": "stream",
     "text": [
      "0.9844827586206897\n"
     ]
    }
   ],
   "source": [
    "import numpy as np\n",
    "import pandas as pd\n",
    "from sklearn.naive_bayes import MultinomialNB   \n",
    "from sklearn.model_selection import train_test_split\n",
    "from sklearn.feature_extraction.text import TfidfVectorizer\n",
    "from sklearn.metrics import accuracy_score\n",
    "from email import message_from_string\n",
    "\n",
    "\n",
    "\n",
    "df =pd.read_csv(\"spam_assassin.csv\")\n",
    "\n",
    "x=df['text']\n",
    "y=df['target']\n",
    "x_train, x_test, y_train, y_test = train_test_split(x, y, test_size=0.2, random_state=42)\n",
    "vec=TfidfVectorizer(max_features=10000,stop_words='english')\n",
    "X_train_vec=vec.fit_transform(x_train)\n",
    "X_test_vec=vec.transform(x_test)\n",
    "model=MultinomialNB()\n",
    "model.fit(X_train_vec,y_train)\n",
    "y_pred=model.predict(X_test_vec)\n",
    "accuracy=accuracy_score(y_test,y_pred)\n",
    "print(accuracy)\n",
    "\n",
    "\n"
   ]
  }
 ],
 "metadata": {
  "kernelspec": {
   "display_name": "Python 3",
   "language": "python",
   "name": "python3"
  },
  "language_info": {
   "codemirror_mode": {
    "name": "ipython",
    "version": 3
   },
   "file_extension": ".py",
   "mimetype": "text/x-python",
   "name": "python",
   "nbconvert_exporter": "python",
   "pygments_lexer": "ipython3",
   "version": "3.13.3"
  }
 },
 "nbformat": 4,
 "nbformat_minor": 5
}
